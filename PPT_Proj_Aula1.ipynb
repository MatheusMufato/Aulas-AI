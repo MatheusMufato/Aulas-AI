{
  "nbformat": 4,
  "nbformat_minor": 0,
  "metadata": {
    "colab": {
      "provenance": [],
      "authorship_tag": "ABX9TyMqNvdhoPzhnPUieribtaMB",
      "include_colab_link": true
    },
    "kernelspec": {
      "name": "python3",
      "display_name": "Python 3"
    },
    "language_info": {
      "name": "python"
    }
  },
  "cells": [
    {
      "cell_type": "markdown",
      "metadata": {
        "id": "view-in-github",
        "colab_type": "text"
      },
      "source": [
        "<a href=\"https://colab.research.google.com/github/MatheusMufato/Aulas-AI/blob/main/PPT_Proj_Aula1.ipynb\" target=\"_parent\"><img src=\"https://colab.research.google.com/assets/colab-badge.svg\" alt=\"Open In Colab\"/></a>"
      ]
    },
    {
      "source": [
        "import random\n",
        "\n",
        "def jogar():\n",
        "    while True:\n",
        "        usuario = input(\"Escolha pedra, papel ou tesoura: \").lower()\n",
        "        if usuario in [\"pedra\", \"papel\", \"tesoura\"]:\n",
        "            break\n",
        "        else:\n",
        "            print(\"Escolha inválida. Por favor, escolha pedra, papel ou tesoura.\")\n",
        "\n",
        "    computador = random.choice([\"pedra\", \"papel\", \"tesoura\"])\n",
        "\n",
        "    print(f\"Você escolheu {usuario}, o computador escolheu {computador}.\")\n",
        "\n",
        "    if usuario == computador:\n",
        "        print(\"Empate!\")\n",
        "    elif (usuario == \"pedra\" and computador == \"tesoura\") or \\\n",
        "         (usuario == \"papel\" and computador == \"pedra\") or \\\n",
        "         (usuario == \"tesoura\" and computador == \"papel\"):\n",
        "        print(\"Você ganhou!\")\n",
        "    else:\n",
        "        print(\"Você perdeu!\")\n",
        "\n",
        "while True:\n",
        "    jogar()\n",
        "    resposta = input(\"Deseja jogar novamente? (s/n): \").lower()\n",
        "    if resposta != \"s\":\n",
        "        break"
      ],
      "cell_type": "code",
      "metadata": {
        "colab": {
          "base_uri": "https://localhost:8080/"
        },
        "id": "YBqLSi9cdWyW",
        "outputId": "b851ef5b-3607-41e2-8051-4510786fa298"
      },
      "execution_count": 11,
      "outputs": [
        {
          "name": "stdout",
          "output_type": "stream",
          "text": [
            "Escolha pedra, papel ou tesoura: pedra\n",
            "Você escolheu pedra, o computador escolheu pedra.\n",
            "Empate!\n",
            "Deseja jogar novamente? (s/n): s\n",
            "Escolha pedra, papel ou tesoura: na\n",
            "Escolha inválida. Por favor, escolha pedra, papel ou tesoura.\n",
            "Escolha pedra, papel ou tesoura: tesoura\n",
            "Você escolheu tesoura, o computador escolheu pedra.\n",
            "Você perdeu!\n",
            "Deseja jogar novamente? (s/n): pedra\n"
          ]
        }
      ]
    },
    {
      "cell_type": "code",
      "source": [],
      "metadata": {
        "id": "Xo1gg5g-eQcM"
      },
      "execution_count": null,
      "outputs": []
    }
  ]
}